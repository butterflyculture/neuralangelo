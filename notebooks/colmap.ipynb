{
 "cells": [
  {
   "cell_type": "markdown",
   "metadata": {},
   "source": [
    "# Note book to run colmap\n",
    "\n",
    "NOTE: containers/pods for Colmap and neuralangelo are seperate as they have conflicting dependencies."
   ]
  },
  {
   "cell_type": "code",
   "execution_count": null,
   "metadata": {},
   "outputs": [],
   "source": [
    "# Imports\n",
    "import gdown\n",
    "import os\n",
    "import validators"
   ]
  },
  {
   "cell_type": "markdown",
   "metadata": {},
   "source": [
    "### Data:\n",
    "\n",
    "Download the data from drive and update video path variable."
   ]
  },
  {
   "cell_type": "code",
   "execution_count": null,
   "metadata": {},
   "outputs": [],
   "source": [
    "#Download the video from drive:\n",
    "\n",
    "#URl from google drive.\n",
    "VIDEO_URL = ''\n",
    "\n",
    "if validators.url(VIDEO_URL):\n",
    "    print(\"Valid URL\")\n",
    "    !gdown --fuzzy {VIDEO_URL}\n",
    "else:\n",
    "    print(\"Invalid URL\")\n"
   ]
  },
  {
   "cell_type": "code",
   "execution_count": null,
   "metadata": {},
   "outputs": [],
   "source": [
    "# File path: --> copy the path to which the video was downloaded\n",
    "video_path = ''"
   ]
  },
  {
   "cell_type": "markdown",
   "metadata": {},
   "source": [
    "## COLMAP processing\n",
    "\n",
    "1. Populate variables\n",
    "2. Execute colmap command "
   ]
  },
  {
   "cell_type": "code",
   "execution_count": null,
   "metadata": {},
   "outputs": [],
   "source": [
    "# Variables:\n",
    "    # SEQUENCE: your custom name for the video sequence.\n",
    "    # PATH_TO_VIDEO: absolute/relative path to your video.\n",
    "    # DOWNSAMPLE_RATE: temporal downsampling rate of video sequence (for extracting video frames).\n",
    "    # SCENE_TYPE: can be one of  {outdoor,indoor,object}.\n",
    "\n",
    "SEQUENCE = '' # Give a relevant name. Eg: Leg_AFO_30thMarch24, bottle_rig_15thMarch25.\n",
    "PATH_TO_VIDEO = video_path\n",
    "DOWNSAMPLE_RATE = '2' #Higher the downsample rate, lower number of frames extracted.\n",
    "SCENE_TYPE = 'object' # currently most of our experiments are objects."
   ]
  },
  {
   "cell_type": "markdown",
   "metadata": {},
   "source": [
    "# Run colmap:"
   ]
  },
  {
   "cell_type": "code",
   "execution_count": null,
   "metadata": {},
   "outputs": [],
   "source": [
    "# FFMPEG:\n",
    "if SEQUENCE == '': # To avoid weird path creation\n",
    "    print('[INFO] Setting sequence name to default value.')\n",
    "    SEQUENCE = 'video_sequence'\n",
    "\n",
    "data_path=f'datasets/{SEQUENCE}_ds{DOWNSAMPLE_RATE}'\n",
    "print(f'[INFO] File path: {PATH_TO_VIDEO}')\n",
    "if os.path.exists(PATH_TO_VIDEO):\n",
    "    !chmod +x ../projects/neuralangelo/scripts/run_ffmpeg.sh\n",
    "    !bash ../projects/neuralangelo/scripts/run_ffmpeg.sh {SEQUENCE} {PATH_TO_VIDEO} {DOWNSAMPLE_RATE}\n",
    "else:\n",
    "    print(f'[ERROR]: Following video path does not exist {PATH_TO_VIDEO}')\n"
   ]
  },
  {
   "cell_type": "code",
   "execution_count": null,
   "metadata": {},
   "outputs": [],
   "source": [
    "# Run COLMAP:\n",
    "print(f'[INFO]: Path to dataset: {data_path}')\n",
    "!bash ../projects/neuralangelo/scripts/run_colmap.sh {data_path}"
   ]
  },
  {
   "cell_type": "code",
   "execution_count": null,
   "metadata": {},
   "outputs": [],
   "source": [
    "# Generate transforms.json\n",
    "!pip install numpy #Common error seen. - requires a pip install of numpy. \n",
    "\n",
    "#Git init submodule -> colmap repo:\n",
    "!git submodule update --init --recursive\n",
    "\n",
    "# One of the two commands works depending on machine:\n",
    "# RUNPOD behaviour noticed: In runpod it picks up a different version of python and does not find compatible numpy. \n",
    "try:\n",
    "    !python ../projects/neuralangelo/scripts/convert_data_to_json.py --data_dir {data_path} --scene_type {SCENE_TYPE}\n",
    "except Exception as e:\n",
    "    !python3.11 ../projects/neuralangelo/scripts/convert_data_to_json.py --data_dir {data_path} --scene_type {SCENE_TYPE}\n"
   ]
  },
  {
   "cell_type": "markdown",
   "metadata": {},
   "source": [
    "### Send Data: RunpodCTL"
   ]
  },
  {
   "cell_type": "markdown",
   "metadata": {},
   "source": [
    "\n",
    "!runpodctl send {data_path}"
   ]
  }
 ],
 "metadata": {
  "kernelspec": {
   "display_name": "neuralangelo",
   "language": "python",
   "name": "python3"
  },
  "language_info": {
   "codemirror_mode": {
    "name": "ipython",
    "version": 3
   },
   "file_extension": ".py",
   "mimetype": "text/x-python",
   "name": "python",
   "nbconvert_exporter": "python",
   "pygments_lexer": "ipython3",
   "version": "3.13.2"
  }
 },
 "nbformat": 4,
 "nbformat_minor": 2
}
