{
 "cells": [
  {
   "cell_type": "markdown",
   "metadata": {},
   "source": [
    "# Noteebook to run Neuralangelo\n",
    "\n",
    "NOTE: containers/pods for Colmap and neuralangelo are seperate as they have conflicting dependencies.\n"
   ]
  },
  {
   "cell_type": "markdown",
   "metadata": {},
   "source": [
    "## Data:\n",
    "\n",
    "1. Get the data.\n",
    "2. Generate config.yaml file"
   ]
  },
  {
   "cell_type": "code",
   "execution_count": 2,
   "metadata": {},
   "outputs": [
    {
     "name": "stdout",
     "output_type": "stream",
     "text": [
      "current_path='/home/ashjostan/bucu/gitRepos/neuralangelo/notebooks'\n",
      "data_dir='/home/ashjostan/bucu/gitRepos/neuralangelo/datasets'\n",
      "[INFO] CREATING DATASETS DIRECTORY\n"
     ]
    }
   ],
   "source": [
    "# Make data directory\n",
    "import os\n",
    "\n",
    "current_path = os.path.abspath(os.getcwd())\n",
    "print(f'{current_path=}')\n",
    "data_dir = os.path.abspath(os.path.join(current_path, os.pardir, 'datasets'))\n",
    "print(f'{data_dir=}')\n",
    "\n",
    "# Make dirs:\n",
    "if os.path.exists(data_dir):\n",
    "    print(\"[INFO] DATASETS DIRECTORY EXISTS\")\n",
    "else:\n",
    "    print(\"[INFO] CREATING DATASETS DIRECTORY\")\n",
    "    os.makedirs(data_dir)\n"
   ]
  },
  {
   "cell_type": "code",
   "execution_count": 7,
   "metadata": {},
   "outputs": [
    {
     "name": "stdout",
     "output_type": "stream",
     "text": [
      "/home/ashjostan/bucu/gitRepos/neuralangelo/datasets\n"
     ]
    },
    {
     "data": {
      "text/plain": [
       "'/home/ashjostan/bucu/gitRepos/neuralangelo/datasets'"
      ]
     },
     "execution_count": 7,
     "metadata": {},
     "output_type": "execute_result"
    }
   ],
   "source": [
    "# Download data:\n",
    "\n",
    "# Get runpod_cmd from the colmap pod.\n",
    "runpod_cmd = ''\n",
    "\n",
    "#change directory\n",
    "%pwd\n",
    "%cd {data_dir}\n",
    "\n",
    "!bash {runpod_cmd}\n",
    "\n",
    "%cd {current_path}\n",
    "%pwd\n"
   ]
  },
  {
   "cell_type": "code",
   "execution_count": null,
   "metadata": {},
   "outputs": [],
   "source": [
    "# Generate config file:\n",
    "    # data_path: absolute path to dataset\n",
    "    # SEQUENCE: your custom name for the video sequence.\n",
    "    # SCENE_TYPE: can be one of  {outdoor,indoor,object}.\n",
    "\n",
    "DATA_PATH = '/'\n",
    "SEQUENCE = ''\n",
    "SCENE_TYPE = 'object'\n",
    "\n",
    "import os \n",
    "os.environ[\"SEQUENCE\"] = SEQUENCE\n",
    "os.environ[\"SCENE_TYPE\"] = SCENE_TYPE\n",
    "\n",
    "!python3 ../projects/neuralangelo/scripts/generate_config.py --sequence_name {SEQUENCE} --data_dir {data_path} --scene_type {SCENE_TYPE}"
   ]
  },
  {
   "cell_type": "markdown",
   "metadata": {},
   "source": [
    "# RUN COLMAP:\n",
    "    1. Populate variables\n",
    "    2. Run Command"
   ]
  },
  {
   "cell_type": "code",
   "execution_count": null,
   "metadata": {},
   "outputs": [],
   "source": [
    "EXPERIMENT=SEQUENCE\n",
    "GROUP='example_group'\n",
    "NAME='example_name'\n",
    "CONFIG=os.abspath(f'../projects/neuralangelo/configs/custom/{EXPERIMENT}.yaml')\n",
    "GPUS=1  # use >1 for multi-GPU training!\n"
   ]
  },
  {
   "cell_type": "code",
   "execution_count": null,
   "metadata": {},
   "outputs": [],
   "source": [
    "# Without W&B:\n",
    "!torchrun --nproc_per_node={GPUS} train.py \\\n",
    "    --logdir=logs/{GROUP}/{NAME} \\\n",
    "    --config={CONFIG} \\\n",
    "    --show_pbar\n",
    "\n",
    "# With W&B:\n",
    "# !torchrun --nproc_per_node={GPUS} train.py \\\n",
    "#     --logdir=logs/{GROUP}/{NAME} \\\n",
    "#     --config={CONFIG} \\\n",
    "#     --show_pbar \\\n",
    "#     -- wandb \\\n",
    "#     -- wandb_name={SEQUENCE}"
   ]
  },
  {
   "cell_type": "markdown",
   "metadata": {},
   "source": [
    "# EXTRACT MESH"
   ]
  },
  {
   "cell_type": "code",
   "execution_count": null,
   "metadata": {},
   "outputs": [],
   "source": []
  }
 ],
 "metadata": {
  "kernelspec": {
   "display_name": "neuralangelo",
   "language": "python",
   "name": "python3"
  },
  "language_info": {
   "codemirror_mode": {
    "name": "ipython",
    "version": 3
   },
   "file_extension": ".py",
   "mimetype": "text/x-python",
   "name": "python",
   "nbconvert_exporter": "python",
   "pygments_lexer": "ipython3",
   "version": "3.13.2"
  }
 },
 "nbformat": 4,
 "nbformat_minor": 2
}
