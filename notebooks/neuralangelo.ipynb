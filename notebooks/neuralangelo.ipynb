{
 "cells": [
  {
   "cell_type": "markdown",
   "metadata": {},
   "source": [
    "# Noteebook to run Neuralangelo\n",
    "\n",
    "NOTE: containers/pods for Colmap and neuralangelo are seperate as they have conflicting dependencies.\n"
   ]
  },
  {
   "cell_type": "markdown",
   "metadata": {},
   "source": [
    "### Git Repo\n",
    "Get latest code repo:"
   ]
  },
  {
   "cell_type": "code",
   "execution_count": 1,
   "metadata": {},
   "outputs": [
    {
     "name": "stdout",
     "output_type": "stream",
     "text": [
      "HEAD is now at f7d009f Update code for runpod secrets support\n",
      "Already up to date.\n"
     ]
    }
   ],
   "source": [
    "!git reset --hard HEAD\n",
    "!git clean -xffd\n",
    "!git pull"
   ]
  },
  {
   "cell_type": "markdown",
   "metadata": {},
   "source": [
    "### Slack Bot"
   ]
  },
  {
   "cell_type": "code",
   "execution_count": 5,
   "metadata": {},
   "outputs": [],
   "source": [
    "import os\n",
    "import sys\n",
    "\n",
    "# Get the absolute path of project_root\n",
    "project_root = os.path.abspath(os.path.join(os.path.dirname('__file__'), \"..\"))\n",
    "# Add project_root to sys.path\n",
    "sys.path.append(project_root)\n",
    "\n",
    "from neovoxel_bot import neovoxel_bot\n",
    "# Create Slack bot client:\n",
    "bot = neovoxel_bot.NeoVoxelBot(channel='neovoxel-bot')"
   ]
  },
  {
   "cell_type": "markdown",
   "metadata": {},
   "source": [
    "## Data:\n",
    "\n",
    "1. Get the data.\n",
    "2. Generate config.yaml file"
   ]
  },
  {
   "cell_type": "code",
   "execution_count": null,
   "metadata": {},
   "outputs": [],
   "source": [
    "# Make data directory\n",
    "import os\n",
    "\n",
    "current_path = os.path.abspath(os.getcwd())\n",
    "print(f'{current_path=}')\n",
    "data_dir = os.path.abspath(os.path.join(current_path, os.pardir, 'datasets'))\n",
    "print(f'{data_dir=}')\n",
    "\n",
    "# Make dirs:\n",
    "if os.path.exists(data_dir):\n",
    "    print(\"[INFO] DATASETS DIRECTORY EXISTS\")\n",
    "else:\n",
    "    print(\"[INFO] CREATING DATASETS DIRECTORY\")\n",
    "    os.makedirs(data_dir)\n"
   ]
  },
  {
   "cell_type": "code",
   "execution_count": null,
   "metadata": {},
   "outputs": [],
   "source": [
    "# Download data:\n",
    "\n",
    "# Get runpod_cmd from the colmap pod.\n",
    "runpod_cmd = ''\n",
    "\n",
    "#change directory to datasets directory and run runpod cmd. \n",
    "%pwd\n",
    "%cd {data_dir}\n",
    "\n",
    "!{runpod_cmd}\n",
    "\n",
    "%cd {current_path}\n",
    "%pwd\n"
   ]
  },
  {
   "cell_type": "code",
   "execution_count": null,
   "metadata": {},
   "outputs": [],
   "source": [
    "# Generate config file:\n",
    "    # data_path: absolute path to dataset\n",
    "    # SEQUENCE: your custom name for the video sequence.\n",
    "    # SCENE_TYPE: can be one of  {outdoor,indoor,object}.\n",
    "\n",
    "DATA_PATH = '/' # copy the path the dataset was saved to. path in previous cell output.\n",
    "SEQUENCE = ''\n",
    "SCENE_TYPE = 'object'\n",
    "\n",
    "!python3 projects/neuralangelo/scripts/generate_config.py --sequence_name {SEQUENCE} --data_dir {DATA_PATH} --scene_type {SCENE_TYPE}"
   ]
  },
  {
   "cell_type": "markdown",
   "metadata": {},
   "source": [
    "# RUN NEURALANGELO:\n",
    "    1. Populate variables\n",
    "    2. Run Command"
   ]
  },
  {
   "cell_type": "code",
   "execution_count": null,
   "metadata": {},
   "outputs": [],
   "source": [
    "EXPERIMENT=SEQUENCE\n",
    "GROUP='example_group'\n",
    "NAME='example_name'\n",
    "CONFIG='/' #config path output from the above cell.\n",
    "GPUS=1  # use >1 for multi-GPU training!\n",
    "\n",
    "#Move control to right folder - neuralangelo\n",
    "%pwd\n",
    "%cd '/workspace/neuralangelo/'"
   ]
  },
  {
   "cell_type": "markdown",
   "metadata": {},
   "source": [
    "### Without Weights and Biases"
   ]
  },
  {
   "cell_type": "code",
   "execution_count": null,
   "metadata": {},
   "outputs": [],
   "source": [
    "# Without W&B:\n",
    "bot.send_message(f'*NEURALANGELO*: Training _{SEQUENCE}_ started')\n",
    "try:\n",
    "    !torchrun --nproc_per_node={GPUS} train.py \\\n",
    "        --logdir=logs/{GROUP}/{NAME} \\\n",
    "        --config={CONFIG} \\\n",
    "        --show_pbar \n",
    "except Exception as e:\n",
    "    bot.send_message(f'*NEURALANGELO*: error:_{e}_')\n",
    "bot.send_message(f'*NEURALANGELO*: Training completed {SEQUENCE}')"
   ]
  },
  {
   "cell_type": "markdown",
   "metadata": {},
   "source": [
    "### With Weights and Biases"
   ]
  },
  {
   "cell_type": "code",
   "execution_count": null,
   "metadata": {},
   "outputs": [],
   "source": [
    "#How to get API KEY? ----> https://docs.wandb.ai/support/find_api_key/\n",
    "bot.send_message(f'*NEURALANGELO*: Training _{SEQUENCE}_ started')\n",
    "try:\n",
    "    !wandb login <YOUR_API_KEY>\n",
    "    !torchrun --nproc_per_node={GPUS} train.py \\\n",
    "        --logdir=logs/{GROUP}/{NAME} \\\n",
    "        --config={CONFIG} \\\n",
    "        --show_pbar \\\n",
    "        --wandb \\\n",
    "        --wandb_name={SEQUENCE}\n",
    "except Exception as e:\n",
    "    bot.send_message(f'*NEURALANGELO*: error:_{e}_')\n",
    "bot.send_message(f'*NEURALANGELO*: Training completed {SEQUENCE}')"
   ]
  },
  {
   "cell_type": "markdown",
   "metadata": {},
   "source": [
    "# EXTRACT MESH\n",
    "\n",
    "Download trhe generated file and view it on a 3D viewer. "
   ]
  },
  {
   "cell_type": "code",
   "execution_count": null,
   "metadata": {},
   "outputs": [],
   "source": [
    "CHECKPOINT='' #.pt\n",
    "OUTPUT_MESH='' #.ply\n",
    "CONFIG='' #This is the config from the training logs. [logs/<group>/<name>/config.yaml]\n",
    "RESOLUTION=2048 # options: 2048, 1024, 512, 256\n",
    "BLOCK_RES=128\n",
    "GPUS=1  # use >1 for multi-GPU mesh extraction\n"
   ]
  },
  {
   "cell_type": "code",
   "execution_count": null,
   "metadata": {},
   "outputs": [],
   "source": [
    "!torchrun --nproc_per_node={GPUS} projects/neuralangelo/scripts/extract_mesh.py \\\n",
    "    --config={CONFIG} \\\n",
    "    --checkpoint={CHECKPOINT} \\\n",
    "    --output_file={OUTPUT_MESH} \\\n",
    "    --resolution={RESOLUTION} \\\n",
    "    --block_res={BLOCK_RES} \\\n",
    "    --textured"
   ]
  }
 ],
 "metadata": {
  "kernelspec": {
   "display_name": "neuralangelo",
   "language": "python",
   "name": "python3"
  },
  "language_info": {
   "codemirror_mode": {
    "name": "ipython",
    "version": 3
   },
   "file_extension": ".py",
   "mimetype": "text/x-python",
   "name": "python",
   "nbconvert_exporter": "python",
   "pygments_lexer": "ipython3",
   "version": "3.13.2"
  }
 },
 "nbformat": 4,
 "nbformat_minor": 2
}
